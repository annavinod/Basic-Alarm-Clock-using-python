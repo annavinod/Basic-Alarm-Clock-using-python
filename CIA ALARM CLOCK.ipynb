{
 "cells": [
  {
   "cell_type": "code",
   "execution_count": 1,
   "id": "637578ad",
   "metadata": {},
   "outputs": [
    {
     "name": "stdout",
     "output_type": "stream",
     "text": [
      "Enter time in 'HH:MM:SS AM/PM' format: 03:18:45 PM\n",
      "Setting alarm for 03:18:45 PM...\n",
      "Wake Up!\n"
     ]
    }
   ],
   "source": [
    "from datetime import datetime  \n",
    "from playsound import playsound    \n",
    "\n",
    "def validate_time(alarm_time):\n",
    "    if len(alarm_time) != 11:\n",
    "        return \"Invalid format.Re enter the timing\"\n",
    "    else:\n",
    "        if int(alarm_time[0:2]) > 12:\n",
    "            return \"Invalid format.Re enter the timing\"\n",
    "        elif int(alarm_time[3:5]) > 59:\n",
    "            return \"Invalid format.Re enter the timing\"\n",
    "        elif int(alarm_time[6:8]) > 59:\n",
    "            return \"Invalid format.Re enter the timing\"\n",
    "        else:\n",
    "            return \"ok\"\n",
    "\n",
    "while True:\n",
    "    alarm_time = input(\"Enter time in 'HH:MM:SS AM/PM' format: \")\n",
    "   \n",
    "    validate = validate_time(alarm_time.lower())\n",
    "    if validate != \"ok\":\n",
    "        print(validate)\n",
    "    else:\n",
    "        print(f\"Setting alarm for {alarm_time}...\")\n",
    "        break\n",
    "\n",
    "alarm_hour = alarm_time[0:2]\n",
    "alarm_min = alarm_time[3:5]\n",
    "alarm_sec = alarm_time[6:8]\n",
    "alarm_period = alarm_time[9:].upper()\n",
    "\n",
    "while True:\n",
    "    now = datetime.now()\n",
    "\n",
    "    current_hour = now.strftime(\"%I\")\n",
    "    current_min = now.strftime(\"%M\")\n",
    "    current_sec = now.strftime(\"%S\")\n",
    "    current_period = now.strftime(\"%p\")\n",
    "\n",
    "    if alarm_period == current_period:\n",
    "        if alarm_hour == current_hour:\n",
    "            if alarm_min == current_min:\n",
    "                if alarm_sec == current_sec:\n",
    "                    print(\"Wake Up!\")\n",
    "                    playsound(r'C:\\Users\\NITHYA\\Downloads\\abc.wav')\n",
    "                    break\n",
    "                    \n"
   ]
  },
  {
   "cell_type": "code",
   "execution_count": null,
   "id": "1b2a860c",
   "metadata": {},
   "outputs": [],
   "source": []
  },
  {
   "cell_type": "code",
   "execution_count": null,
   "id": "4675178f",
   "metadata": {},
   "outputs": [],
   "source": []
  }
 ],
 "metadata": {
  "kernelspec": {
   "display_name": "Python 3",
   "language": "python",
   "name": "python3"
  },
  "language_info": {
   "codemirror_mode": {
    "name": "ipython",
    "version": 3
   },
   "file_extension": ".py",
   "mimetype": "text/x-python",
   "name": "python",
   "nbconvert_exporter": "python",
   "pygments_lexer": "ipython3",
   "version": "3.8.8"
  }
 },
 "nbformat": 4,
 "nbformat_minor": 5
}
